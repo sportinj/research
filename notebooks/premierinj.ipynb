{
 "cells": [
  {
   "cell_type": "markdown",
   "id": "bec034ce-486a-4fab-885e-0ff66ca378b4",
   "metadata": {},
   "source": [
    "### Install requirements"
   ]
  },
  {
   "cell_type": "code",
   "execution_count": 8,
   "id": "4ef7c809-94ca-465d-b85e-cb9cde431e9b",
   "metadata": {},
   "outputs": [
    {
     "name": "stdout",
     "output_type": "stream",
     "text": [
      "Requirement already satisfied: beautifulsoup4==4.11.1 in g:\\projects\\sportinj\\research\\.venv\\lib\\site-packages (from -r requirements.txt (line 1)) (4.11.1)\n",
      "Requirement already satisfied: soupsieve>1.2 in g:\\projects\\sportinj\\research\\.venv\\lib\\site-packages (from beautifulsoup4==4.11.1->-r requirements.txt (line 1)) (2.3.2.post1)\n"
     ]
    }
   ],
   "source": [
    "import sys\n",
    "!{sys.executable} -m pip install -r requirements.txt -U"
   ]
  },
  {
   "cell_type": "markdown",
   "id": "1184bcdb-f31e-4b35-9415-6a87eb58c5af",
   "metadata": {},
   "source": [
    "### Get html content"
   ]
  },
  {
   "cell_type": "code",
   "execution_count": 3,
   "id": "d2441a57-b4f6-488b-8e22-23e62c28153a",
   "metadata": {},
   "outputs": [],
   "source": [
    "import requests"
   ]
  },
  {
   "cell_type": "code",
   "execution_count": 12,
   "id": "3b947133-73a5-4f3c-bef5-ac440abfca52",
   "metadata": {},
   "outputs": [],
   "source": [
    "response = requests.get('https://www.premierinjuries.com/injury-table.php')"
   ]
  },
  {
   "cell_type": "code",
   "execution_count": 13,
   "id": "6cf3c93f-1d72-48f5-b91a-7cecc24a1f54",
   "metadata": {},
   "outputs": [
    {
     "data": {
      "text/plain": [
       "200"
      ]
     },
     "execution_count": 13,
     "metadata": {},
     "output_type": "execute_result"
    }
   ],
   "source": [
    "response.status_code"
   ]
  },
  {
   "cell_type": "markdown",
   "id": "308880d8-af0f-40d4-a137-8e3770ef003d",
   "metadata": {},
   "source": [
    "### Start parsing"
   ]
  },
  {
   "cell_type": "code",
   "execution_count": 14,
   "id": "24e4cddf-42fa-40a0-9f22-713502c221d6",
   "metadata": {},
   "outputs": [],
   "source": [
    "from bs4 import BeautifulSoup\n",
    "soup = BeautifulSoup(response.content)"
   ]
  },
  {
   "cell_type": "code",
   "execution_count": 52,
   "id": "c4614be1-b4cf-4978-b94f-4ee484ba64a9",
   "metadata": {},
   "outputs": [],
   "source": [
    "from dataclasses import dataclass\n",
    "\n",
    "@dataclass\n",
    "class Player:\n",
    "    name: str\n",
    "    reason: str\n",
    "    \n",
    "@dataclass\n",
    "class Team:\n",
    "    name: str\n",
    "    inj_count: int\n",
    "    team_id: str\n",
    "    players: list[Player]"
   ]
  },
  {
   "cell_type": "code",
   "execution_count": 56,
   "id": "49b1ccd7-55c6-493e-bdfc-eb11a142e0d7",
   "metadata": {},
   "outputs": [
    {
     "name": "stdout",
     "output_type": "stream",
     "text": [
      "AFC Bournemouth 5\n",
      "Joseph Rothwell\n",
      "Benjamin Pearson\n",
      "David Brooks\n",
      "Lloyd Kelly\n",
      "Ryan Fredericks \n",
      "-------------\n",
      "Arsenal 6\n",
      "Cedric Soares\n",
      "Oleksandr Zinchenko\n",
      "Reiss Nelson\n",
      "Mohamed Elneny\n",
      "Emile Smith Rowe\n",
      "Martin Odegaard\n",
      "-------------\n",
      "Aston Villa 4\n",
      "Matty Cash\n",
      "Boubacar Kamara\n",
      "Lucas Digne\n",
      "Diego Carlos Santos Silva\n",
      "-------------\n",
      "Brentford 3\n",
      "Christian Norgaard\n",
      "Ethan Pinnock\n",
      "Keane Lewis-Potter\n",
      "-------------\n",
      "Brighton & Hove Albion 4\n",
      "Jakub Moder\n",
      "Enock Mwepu\n",
      "Adam Lallana \n",
      "Jeremy Sarmiento\n",
      "-------------\n",
      "Chelsea 3\n",
      "Edouard Mendy\n",
      "N'Golo Kante\n",
      "Christian Pulisic\n",
      "-------------\n",
      "Crystal Palace 4\n",
      "Nathan Ferguson\n",
      "Jack Butland \n",
      "James McArthur\n",
      "James Tomkins \n",
      "-------------\n",
      "Everton 7\n",
      "Ben Godfrey\n",
      "Andros Townsend \n",
      "Yerry Mina\n",
      "Mason Holgate\n",
      "Jordan Pickford\n",
      "Dominic Calvert-Lewin\n",
      "Nathan Patterson\n",
      "-------------\n",
      "Fulham 4\n",
      "Harry Wilson\n",
      "Joao Maria Lobo Alves Palhinha Goncalves\n",
      "Antonee Robinson\n",
      "Manor Solomon\n",
      "-------------\n",
      "Leeds United 2\n",
      "Stuart Dallas\n",
      "Rodrigo Moreno Machado\n",
      "-------------\n",
      "Leicester City 4\n",
      "Ricardo Barbosa Pereira\n",
      "Patson Daka\n",
      "Wilfred Ndidi\n",
      "Ryan Bertrand \n",
      "-------------\n",
      "Liverpool 8\n",
      "Alex Oxlade-Chamberlain \n",
      "Naby Keita\n",
      "Jordan Henderson \n",
      "Andrew Robertson\n",
      "Ibrahima Konate\n",
      "Curtis Jones\n",
      "Caoimhin Kelleher\n",
      "Calvin Ramsay\n",
      "-------------\n",
      "Manchester City 2\n",
      "Aymeric Laporte\n",
      "Kalvin Phillips\n",
      "-------------\n",
      "Manchester United 7\n",
      "Donny van de Beek\n",
      "Marcus Rashford\n",
      "Facundo Pellistri Rebollo\n",
      "Brandon Williams\n",
      "Martin Dubravka\n",
      "Mason Greenwood\n",
      "Anthony Martial\n",
      "-------------\n",
      "Newcastle United 8\n",
      "Karl Darlow\n",
      "Jonjo Shelvey \n",
      "Elliott Anderson\n",
      "Alexander Isak\n",
      "Bruno Guimaraes\n",
      "Callum Wilson\n",
      "Allan Saint-Maximin\n",
      "Emil Krafth\n",
      "-------------\n",
      "Nottingham Forest 5\n",
      "Moussa Niakhate\n",
      "Orel Mangala\n",
      "Omar Richards\n",
      "Emmanuel Dennis\n",
      "Morgan Gibbs-White\n",
      "-------------\n",
      "Southampton 2\n",
      "Valentino Livramento\n",
      "Romeo Lavia\n",
      "-------------\n",
      "Tottenham Hotspur 4\n",
      "Ben Davies \n",
      "Hugo Lloris \n",
      "Lucas Rodrigues Moura da Silva\n",
      "Ivan Perisic\n",
      "-------------\n",
      "West Ham United 2\n",
      "Nayef Aguerd\n",
      "Benjamin Johnson\n",
      "-------------\n",
      "Wolverhampton Wanderers 5\n",
      "Francisco Tavares Oliveira\n",
      "Nathan Collins\n",
      "Diego Costa\n",
      "Raul Jimenez\n",
      "Sasa Kalajdzic\n",
      "-------------\n"
     ]
    }
   ],
   "source": [
    "results = []\n",
    "\n",
    "table = soup.find('table', class_='injury-table')\n",
    "teams = table.find_all('tr', class_='heading')\n",
    "\n",
    "for team in teams:\n",
    "    team_id = team['data-team-id']\n",
    "    title_team = team.find('div', class_='injury-team').text\n",
    "    \n",
    "    count_players = int(team.find('span', class_='injury-count2-num').text)\n",
    "    \n",
    "    results.append(Team(title_team, count_players, team_id, players=[]))\n",
    "\n",
    "for team in results:\n",
    "    players = table.find_all('tr', class_=f'player-row team_{team.team_id}')\n",
    "    # print(players)\n",
    "    for player in players:\n",
    "        player_name = player.find('div', class_='mob-title', text='Player').parent.text[6:]\n",
    "        reason = player.find('div', class_='mob-title', text='Reason').parent.text[6:]\n",
    "        \n",
    "        team.players.append(Player(player_name, reason))\n",
    "\n",
    "for team in results:\n",
    "    print(team.name, team.inj_count)\n",
    "    for player in team.players:\n",
    "        print(player.name)\n",
    "    \n",
    "    print('-------------')"
   ]
  },
  {
   "cell_type": "code",
   "execution_count": null,
   "id": "b08e9e14-8241-479a-9f04-9601c358fda6",
   "metadata": {},
   "outputs": [],
   "source": []
  }
 ],
 "metadata": {
  "kernelspec": {
   "display_name": "Python 3 (ipykernel)",
   "language": "python",
   "name": "python3"
  },
  "language_info": {
   "codemirror_mode": {
    "name": "ipython",
    "version": 3
   },
   "file_extension": ".py",
   "mimetype": "text/x-python",
   "name": "python",
   "nbconvert_exporter": "python",
   "pygments_lexer": "ipython3",
   "version": "3.10.7"
  }
 },
 "nbformat": 4,
 "nbformat_minor": 5
}
